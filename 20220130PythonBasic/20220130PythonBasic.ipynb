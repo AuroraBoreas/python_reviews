{
 "cells": [
  {
   "cell_type": "markdown",
   "id": "528ff959",
   "metadata": {
    "slideshow": {
     "slide_type": "slide"
    }
   },
   "source": [
    "# Python Basic\n",
    "\n",
    "此教程针对Python编程语言感兴趣的人，从零基础到入门。\n",
    "\n",
    "Learn Python within 24 hours.\n",
    "\n",
    "## Author\n",
    "\n",
    "@ZL, 20220130\n",
    "\n",
    "## Changelog\n",
    "\n",
    "- v0.01, initial build. 20220130\n",
    "\n",
    "## Content\n",
    "\n",
    "The following is the skeleton of this course.\n",
    "\n",
    "0. 配置开发环境 development environment configuration\n",
    "1. 变 Variable\n",
    "2. 函 Function\n",
    "3. 达 Statement and expression\n",
    "4. 控 Control flow\n",
    "5. 流 Loop\n",
    "6. 类 Class\n",
    "7. 结 Data Structure"
   ]
  },
  {
   "cell_type": "markdown",
   "id": "60e8ac3b",
   "metadata": {},
   "source": [
    "## 0. 配置开发环境 development environment configuration\n",
    "\n",
    "### Windows\n",
    "\n",
    "1. 官网下载最新Python3编译器。https://www.python.org/downloads/\n",
    "2. 设置环境变量。https://blog.csdn.net/CatStarXcode/article/details/79715530\n",
    "3. 设置pypi镜像地址。https://www.jianshu.com/p/e2dd167d2892\n",
    "\n",
    "Macos: 同Windows，或用brew install Python3\n",
    "\n",
    "### 如何确认配置成功？\n",
    "\n",
    "命令行\n",
    "\n",
    "```\n",
    "python --version\n",
    "\n",
    "pip --version\n",
    "\n",
    "where python\n",
    "```"
   ]
  },
  {
   "cell_type": "markdown",
   "id": "baf6dc9e",
   "metadata": {
    "slideshow": {
     "slide_type": "slide"
    }
   },
   "source": [
    "## 1. 变 Variable\n",
    "\n",
    "### What\n",
    "\n",
    "变量就像一个盒子，或者容器。用来装东西。\n",
    "\n",
    "哪类? 叫什么？有多少？\n",
    "\n",
    "### Why\n",
    "\n",
    "避免重复。DRY\n",
    "\n",
    "### How\n",
    "\n",
    "```\n",
    "\n",
    "variable_name:Type = value\n",
    "\n",
    "```\n",
    "\n",
    "### variable_name\n",
    "\n",
    "约定俗成\n",
    "\n",
    "- 全部小写\n",
    "- 如果由多个单词组成，用下划线连起来\n",
    "- 不可使用数字开头/Python语言保留关键字/特殊符号等\n",
    "\n",
    "类型：Python有4类string, int, float, boolean\n",
    "\n",
    "值：类型和值要匹配\n",
    "\n",
    "### 类型之间转换\n",
    "\n",
    "\n",
    "|  -     | str | int | float | bool |\n",
    "|--------|-----|-----|-------|------|\n",
    "| str    |  -  |  O  |  O    |  O   |\n",
    "| int    |  O  |  -  |  O    |  O   |\n",
    "| float  |  O  |  O  |  -    |  O   |\n",
    "| bool   |  O  |  O  |  O    |  -   |\n",
    "\n",
    "### 输出格式化\n",
    "\n",
    "口诀：“填对宽，分精类”\n",
    "\n",
    "1. 填充: 不足的空位用指定字符填充\n",
    "2. 对齐: 左中右\n",
    "3. 宽度: 整体的宽度\n",
    "4. 分号: 千分号\n",
    "5. 精度: 精确到小数点后多少位\n",
    "6. 类型: int, float, decimal, binary, oct, hex\n",
    "\n",
    "### 值\n",
    "\n",
    "科学计数法，或下划线隔开特大数值\n",
    "\n",
    "###  打印格式化的方法\n",
    "\n",
    "\n",
    "```\n",
    "n:int = 42\n",
    "\n",
    "print('number n: %d' % n) # C style\n",
    "\n",
    "print('number n: ' + str(n)) # concatenation\n",
    "\n",
    "print(f'number n: {n}') # f-string\n",
    "\n",
    "```"
   ]
  },
  {
   "cell_type": "code",
   "execution_count": 4,
   "id": "bc8e9c58",
   "metadata": {},
   "outputs": [
    {
     "name": "stdout",
     "output_type": "stream",
     "text": [
      "ZL\n"
     ]
    }
   ],
   "source": [
    "name:str = 'ZL' # 声明一个叫 name的变量，存储的东西是字符串，值是'ZL'\n",
    "    \n",
    "print(name) # 打印出变量name"
   ]
  },
  {
   "cell_type": "code",
   "execution_count": 12,
   "id": "9c225b02",
   "metadata": {},
   "outputs": [
    {
     "name": "stdout",
     "output_type": "stream",
     "text": [
      "69\n"
     ]
    }
   ],
   "source": [
    "a:int = 69\n",
    "print(a)"
   ]
  },
  {
   "cell_type": "code",
   "execution_count": 14,
   "id": "a8977c7f",
   "metadata": {},
   "outputs": [
    {
     "name": "stdout",
     "output_type": "stream",
     "text": [
      "3.14159\n"
     ]
    }
   ],
   "source": [
    "b:float = 3.14159\n",
    "print(b)"
   ]
  },
  {
   "cell_type": "code",
   "execution_count": 15,
   "id": "15f036bd",
   "metadata": {},
   "outputs": [
    {
     "name": "stdout",
     "output_type": "stream",
     "text": [
      "True\n"
     ]
    }
   ],
   "source": [
    "c:bool = True\n",
    "print(c)"
   ]
  },
  {
   "cell_type": "code",
   "execution_count": 18,
   "id": "1098cbdc",
   "metadata": {},
   "outputs": [
    {
     "data": {
      "text/plain": [
       "str"
      ]
     },
     "execution_count": 18,
     "metadata": {},
     "output_type": "execute_result"
    }
   ],
   "source": [
    "x:str = '42'\n",
    "type(x)"
   ]
  },
  {
   "cell_type": "code",
   "execution_count": 19,
   "id": "cbeb5c33",
   "metadata": {},
   "outputs": [
    {
     "data": {
      "text/plain": [
       "42"
      ]
     },
     "execution_count": 19,
     "metadata": {},
     "output_type": "execute_result"
    }
   ],
   "source": [
    "int(x)"
   ]
  },
  {
   "cell_type": "code",
   "execution_count": 20,
   "id": "081cd470",
   "metadata": {},
   "outputs": [
    {
     "data": {
      "text/plain": [
       "42.0"
      ]
     },
     "execution_count": 20,
     "metadata": {},
     "output_type": "execute_result"
    }
   ],
   "source": [
    "float(x)"
   ]
  },
  {
   "cell_type": "code",
   "execution_count": 21,
   "id": "080ac959",
   "metadata": {},
   "outputs": [
    {
     "data": {
      "text/plain": [
       "True"
      ]
     },
     "execution_count": 21,
     "metadata": {},
     "output_type": "execute_result"
    }
   ],
   "source": [
    "bool(x)"
   ]
  },
  {
   "cell_type": "code",
   "execution_count": 46,
   "id": "d9cd7dbb",
   "metadata": {},
   "outputs": [
    {
     "name": "stdout",
     "output_type": "stream",
     "text": [
      "100,000,000.00******\n"
     ]
    }
   ],
   "source": [
    "y:int = 100_000_000\n",
    "z:int = 3e8\n",
    "    \n",
    "print('{0:*<20,.2f}'.format(y))"
   ]
  },
  {
   "cell_type": "code",
   "execution_count": 47,
   "id": "bc78061b",
   "metadata": {},
   "outputs": [
    {
     "name": "stdout",
     "output_type": "stream",
     "text": [
      "300000000.0*********\n"
     ]
    }
   ],
   "source": [
    "print('{0:*<20}'.format(z))"
   ]
  },
  {
   "cell_type": "code",
   "execution_count": 48,
   "id": "946b23a4",
   "metadata": {},
   "outputs": [
    {
     "name": "stdout",
     "output_type": "stream",
     "text": [
      "101111101011110000100000000\n"
     ]
    }
   ],
   "source": [
    "print('{0:<b}'.format(y))"
   ]
  },
  {
   "cell_type": "code",
   "execution_count": 49,
   "id": "a4a87b5d",
   "metadata": {},
   "outputs": [
    {
     "name": "stdout",
     "output_type": "stream",
     "text": [
      "575360400\n"
     ]
    }
   ],
   "source": [
    "print('{0:<o}'.format(y))"
   ]
  },
  {
   "cell_type": "code",
   "execution_count": 50,
   "id": "f54bcc1d",
   "metadata": {},
   "outputs": [
    {
     "name": "stdout",
     "output_type": "stream",
     "text": [
      "5f5e100\n"
     ]
    }
   ],
   "source": [
    "print('{0:<x}'.format(y))"
   ]
  },
  {
   "cell_type": "code",
   "execution_count": 38,
   "id": "88365316",
   "metadata": {},
   "outputs": [
    {
     "name": "stdout",
     "output_type": "stream",
     "text": [
      "300000000\n"
     ]
    }
   ],
   "source": [
    "print('%d' % y)"
   ]
  },
  {
   "cell_type": "code",
   "execution_count": 42,
   "id": "dab46228",
   "metadata": {},
   "outputs": [
    {
     "name": "stdout",
     "output_type": "stream",
     "text": [
      "300000000\n"
     ]
    }
   ],
   "source": [
    "print(f'{y!r}')"
   ]
  },
  {
   "cell_type": "markdown",
   "id": "144cea8e",
   "metadata": {},
   "source": [
    "## 2. 函 Function\n",
    "\n",
    "### What\n",
    "\n",
    "输入 -> 函数 -> 输出。跟数学里的函数概念一样\n",
    "\n",
    "Note: EFMA\n",
    "\n",
    "### Why\n",
    "\n",
    "将可重复使用的代码块整合到一个函数里，不用每次都写。DRY\n",
    "\n",
    "### How\n",
    "\n",
    "函数组成：函数名字，参数，返回值\n",
    "\n",
    "```\n",
    "def function_name(*args:Any, **kwargs:Any) -> Any:\n",
    "    ...\n",
    "    return\n",
    "```\n",
    "\n",
    "### 分类\n",
    "\n",
    "- 普通函数: 掌握✋\n",
    "- 匿名函数: 掌握✋\n",
    "- 立即函数: 了解\n",
    "\n",
    "### 函数名字\n",
    "\n",
    "跟变量variable约定类似\n",
    "\n",
    "### 参数\n",
    "\n",
    "- 位置参数: args\n",
    "- 关键字参数: kwargs\n",
    "\n",
    "### 返回值\n",
    "\n",
    "- 可以返回1个或多个值: 掌握✋\n",
    "- 也可以不返回任何值: 掌握✋\n",
    "- 返回对象: 了解\n",
    "- 返回函数: 了解"
   ]
  },
  {
   "cell_type": "code",
   "execution_count": 58,
   "id": "b85efe82",
   "metadata": {},
   "outputs": [],
   "source": [
    "def summation_01(a:int, b:int) -> int:\n",
    "    rv = a + b\n",
    "    return rv"
   ]
  },
  {
   "cell_type": "code",
   "execution_count": 59,
   "id": "86ef109a",
   "metadata": {},
   "outputs": [
    {
     "data": {
      "text/plain": [
       "9"
      ]
     },
     "execution_count": 59,
     "metadata": {},
     "output_type": "execute_result"
    }
   ],
   "source": [
    "summation_01(4, 5)"
   ]
  },
  {
   "cell_type": "code",
   "execution_count": 62,
   "id": "9f5c39ed",
   "metadata": {},
   "outputs": [],
   "source": [
    "def summation_02(a:int, b:int, c:int) -> int:\n",
    "    return a + b + c"
   ]
  },
  {
   "cell_type": "code",
   "execution_count": 63,
   "id": "dbb32de6",
   "metadata": {},
   "outputs": [
    {
     "data": {
      "text/plain": [
       "6"
      ]
     },
     "execution_count": 63,
     "metadata": {},
     "output_type": "execute_result"
    }
   ],
   "source": [
    "summation_02(1, 2, 3)"
   ]
  },
  {
   "cell_type": "code",
   "execution_count": 68,
   "id": "d2db75f3",
   "metadata": {},
   "outputs": [],
   "source": [
    "f = lambda x, y: x + y"
   ]
  },
  {
   "cell_type": "code",
   "execution_count": 69,
   "id": "2114d404",
   "metadata": {},
   "outputs": [
    {
     "data": {
      "text/plain": [
       "3"
      ]
     },
     "execution_count": 69,
     "metadata": {},
     "output_type": "execute_result"
    }
   ],
   "source": [
    "f(1, 2)"
   ]
  },
  {
   "cell_type": "code",
   "execution_count": 70,
   "id": "155d5665",
   "metadata": {},
   "outputs": [
    {
     "data": {
      "text/plain": [
       "20"
      ]
     },
     "execution_count": 70,
     "metadata": {},
     "output_type": "execute_result"
    }
   ],
   "source": [
    "(lambda x, y: x * y)(4, 5)"
   ]
  },
  {
   "cell_type": "code",
   "execution_count": 75,
   "id": "b72f1b22",
   "metadata": {},
   "outputs": [
    {
     "data": {
      "text/plain": [
       "True"
      ]
     },
     "execution_count": 75,
     "metadata": {},
     "output_type": "execute_result"
    }
   ],
   "source": [
    "hasattr(f, '__call__')"
   ]
  },
  {
   "cell_type": "code",
   "execution_count": 77,
   "id": "2f1e3def",
   "metadata": {},
   "outputs": [],
   "source": [
    "def add(a:float, b:int=10)->float:\n",
    "    return a + b"
   ]
  },
  {
   "cell_type": "code",
   "execution_count": 78,
   "id": "846c7fe5",
   "metadata": {},
   "outputs": [
    {
     "data": {
      "text/plain": [
       "13.14"
      ]
     },
     "execution_count": 78,
     "metadata": {},
     "output_type": "execute_result"
    }
   ],
   "source": [
    "add(3.14)"
   ]
  },
  {
   "cell_type": "code",
   "execution_count": 79,
   "id": "01790a0d",
   "metadata": {},
   "outputs": [],
   "source": [
    "def sub(a:float=2.718, b:int=3.14)->float:\n",
    "    return a - b"
   ]
  },
  {
   "cell_type": "code",
   "execution_count": 80,
   "id": "29831aa1",
   "metadata": {},
   "outputs": [
    {
     "data": {
      "text/plain": [
       "-2.5220000000000002"
      ]
     },
     "execution_count": 80,
     "metadata": {},
     "output_type": "execute_result"
    }
   ],
   "source": [
    "sub(a=0.618)"
   ]
  },
  {
   "cell_type": "code",
   "execution_count": 81,
   "id": "61b08e47",
   "metadata": {},
   "outputs": [],
   "source": [
    "def general_sum(*args, **kwargs)->float:\n",
    "    return sum(args) + sum(kwargs.values())"
   ]
  },
  {
   "cell_type": "code",
   "execution_count": 82,
   "id": "bbd15474",
   "metadata": {},
   "outputs": [
    {
     "data": {
      "text/plain": [
       "9"
      ]
     },
     "execution_count": 82,
     "metadata": {},
     "output_type": "execute_result"
    }
   ],
   "source": [
    "general_sum(1, 2, 3, x=1, y=2)"
   ]
  },
  {
   "cell_type": "markdown",
   "id": "c19206c5",
   "metadata": {},
   "source": [
    "## 3. 达 Statement and expression\n",
    "\n",
    "### What\n",
    "\n",
    "1. Arithmetic: + - * / **\n",
    "2. Relational: = != > >= < <=\n",
    "3. Logical: not and or\n",
    "4. Assignment: =\n",
    "\n",
    "### Why\n",
    "\n",
    "模拟自然语言\n",
    "\n",
    "### How\n",
    "\n",
    "```\n",
    "a:int = 42; b:int = 69\n",
    "\n",
    "a + b\n",
    "```"
   ]
  },
  {
   "cell_type": "code",
   "execution_count": 83,
   "id": "8773735a",
   "metadata": {},
   "outputs": [],
   "source": [
    "a, b = 42, 69"
   ]
  },
  {
   "cell_type": "code",
   "execution_count": 84,
   "id": "30aa8303",
   "metadata": {},
   "outputs": [
    {
     "data": {
      "text/plain": [
       "111"
      ]
     },
     "execution_count": 84,
     "metadata": {},
     "output_type": "execute_result"
    }
   ],
   "source": [
    "a + b"
   ]
  },
  {
   "cell_type": "code",
   "execution_count": 85,
   "id": "4dab4cf8",
   "metadata": {},
   "outputs": [
    {
     "data": {
      "text/plain": [
       "-27"
      ]
     },
     "execution_count": 85,
     "metadata": {},
     "output_type": "execute_result"
    }
   ],
   "source": [
    "a - b"
   ]
  },
  {
   "cell_type": "code",
   "execution_count": 86,
   "id": "f3956235",
   "metadata": {},
   "outputs": [
    {
     "data": {
      "text/plain": [
       "2898"
      ]
     },
     "execution_count": 86,
     "metadata": {},
     "output_type": "execute_result"
    }
   ],
   "source": [
    "a * b"
   ]
  },
  {
   "cell_type": "code",
   "execution_count": 87,
   "id": "a26659e4",
   "metadata": {},
   "outputs": [
    {
     "data": {
      "text/plain": [
       "0.6086956521739131"
      ]
     },
     "execution_count": 87,
     "metadata": {},
     "output_type": "execute_result"
    }
   ],
   "source": [
    "a / b"
   ]
  },
  {
   "cell_type": "code",
   "execution_count": 88,
   "id": "6addaad1",
   "metadata": {},
   "outputs": [
    {
     "data": {
      "text/plain": [
       "10097201832880355573875790863214833226896186369872326994250398570376877433686009543845316266007917815719968899072"
      ]
     },
     "execution_count": 88,
     "metadata": {},
     "output_type": "execute_result"
    }
   ],
   "source": [
    "a ** b"
   ]
  },
  {
   "cell_type": "code",
   "execution_count": 89,
   "id": "e6799512",
   "metadata": {},
   "outputs": [
    {
     "data": {
      "text/plain": [
       "42"
      ]
     },
     "execution_count": 89,
     "metadata": {},
     "output_type": "execute_result"
    }
   ],
   "source": [
    "a % b"
   ]
  },
  {
   "cell_type": "code",
   "execution_count": 90,
   "id": "98bc41a9",
   "metadata": {},
   "outputs": [
    {
     "data": {
      "text/plain": [
       "False"
      ]
     },
     "execution_count": 90,
     "metadata": {},
     "output_type": "execute_result"
    }
   ],
   "source": [
    "a == b"
   ]
  },
  {
   "cell_type": "code",
   "execution_count": 91,
   "id": "9c6c46f7",
   "metadata": {},
   "outputs": [
    {
     "data": {
      "text/plain": [
       "True"
      ]
     },
     "execution_count": 91,
     "metadata": {},
     "output_type": "execute_result"
    }
   ],
   "source": [
    "a != b"
   ]
  },
  {
   "cell_type": "code",
   "execution_count": 92,
   "id": "50e104ac",
   "metadata": {},
   "outputs": [
    {
     "data": {
      "text/plain": [
       "False"
      ]
     },
     "execution_count": 92,
     "metadata": {},
     "output_type": "execute_result"
    }
   ],
   "source": [
    "a > b"
   ]
  },
  {
   "cell_type": "code",
   "execution_count": 93,
   "id": "59d02779",
   "metadata": {},
   "outputs": [
    {
     "data": {
      "text/plain": [
       "False"
      ]
     },
     "execution_count": 93,
     "metadata": {},
     "output_type": "execute_result"
    }
   ],
   "source": [
    "a >= b"
   ]
  },
  {
   "cell_type": "code",
   "execution_count": 94,
   "id": "4fa296d7",
   "metadata": {},
   "outputs": [
    {
     "data": {
      "text/plain": [
       "True"
      ]
     },
     "execution_count": 94,
     "metadata": {},
     "output_type": "execute_result"
    }
   ],
   "source": [
    "a < b"
   ]
  },
  {
   "cell_type": "code",
   "execution_count": 95,
   "id": "9effb9dc",
   "metadata": {},
   "outputs": [
    {
     "data": {
      "text/plain": [
       "True"
      ]
     },
     "execution_count": 95,
     "metadata": {},
     "output_type": "execute_result"
    }
   ],
   "source": [
    "a <= b"
   ]
  },
  {
   "cell_type": "code",
   "execution_count": 96,
   "id": "cdd653cd",
   "metadata": {},
   "outputs": [
    {
     "data": {
      "text/plain": [
       "69"
      ]
     },
     "execution_count": 96,
     "metadata": {},
     "output_type": "execute_result"
    }
   ],
   "source": [
    "a and b"
   ]
  },
  {
   "cell_type": "code",
   "execution_count": 97,
   "id": "619e9064",
   "metadata": {},
   "outputs": [
    {
     "data": {
      "text/plain": [
       "42"
      ]
     },
     "execution_count": 97,
     "metadata": {},
     "output_type": "execute_result"
    }
   ],
   "source": [
    "a or b"
   ]
  },
  {
   "cell_type": "code",
   "execution_count": 98,
   "id": "0d9a8ce8",
   "metadata": {},
   "outputs": [
    {
     "data": {
      "text/plain": [
       "False"
      ]
     },
     "execution_count": 98,
     "metadata": {},
     "output_type": "execute_result"
    }
   ],
   "source": [
    "not a"
   ]
  },
  {
   "cell_type": "markdown",
   "id": "025e4ce1",
   "metadata": {},
   "source": [
    "## 4. 控 Control flow\n",
    "\n",
    "### What\n",
    "\n",
    "条件语句，跟自然语言的概念一样。\n",
    "\n",
    "如果天气预报说今天要打雷下雨☔️，那就要带🌂\n",
    "\n",
    "### Why\n",
    "\n",
    "模拟自然语言\n",
    "\n",
    "### How\n",
    "\n",
    "```\n",
    "if condi:\n",
    "    ...\n",
    "elif condi:\n",
    "    ...\n",
    "else:\n",
    "    ...\n",
    "   \n",
    "```\n",
    "\n",
    "```\n",
    "try:\n",
    "    ...\n",
    "except Exception:\n",
    "    ...\n",
    "finally:\n",
    "    ...\n",
    "```"
   ]
  },
  {
   "cell_type": "code",
   "execution_count": 99,
   "id": "5bba56a0",
   "metadata": {},
   "outputs": [
    {
     "name": "stdout",
     "output_type": "stream",
     "text": [
      "42 is greater than 20\n"
     ]
    }
   ],
   "source": [
    "x:int = 42\n",
    "    \n",
    "if x < 20:\n",
    "    print(f'{x} is less than 20')\n",
    "elif x == 20:\n",
    "    print(f'{x} is equal to 20')\n",
    "else:\n",
    "    print(f'{x} is greater than 20')"
   ]
  },
  {
   "cell_type": "code",
   "execution_count": 100,
   "id": "a4c47d65",
   "metadata": {},
   "outputs": [
    {
     "name": "stdout",
     "output_type": "stream",
     "text": [
      "division by zero\n",
      "42\n"
     ]
    }
   ],
   "source": [
    "try:\n",
    "    rv = x / 0\n",
    "except Exception as e:\n",
    "    print(e)\n",
    "finally:\n",
    "    print(x)"
   ]
  },
  {
   "cell_type": "markdown",
   "id": "99b0c500",
   "metadata": {},
   "source": [
    "## 5. 流 Loop\n",
    "\n",
    "### What\n",
    "循环♻️\n",
    "\n",
    "for...\n",
    "\n",
    "while...\n",
    "\n",
    "\n",
    "### Why\n",
    "\n",
    "重复的工作让程序自动做\n",
    "\n",
    "### How\n",
    "\n",
    "```\n",
    "for i in range(1, 11, 2):\n",
    "    print(i)\n",
    "```\n",
    "\n",
    "```\n",
    "i:int = 10\n",
    "\n",
    "while i > 0:\n",
    "    print(i)\n",
    "    i -= 2\n",
    "```"
   ]
  },
  {
   "cell_type": "code",
   "execution_count": 101,
   "id": "1e11d513",
   "metadata": {},
   "outputs": [
    {
     "name": "stdout",
     "output_type": "stream",
     "text": [
      "1 3 5 7 9 "
     ]
    }
   ],
   "source": [
    "for i in range(1, 11, 2):\n",
    "    print(i, end=' ')"
   ]
  },
  {
   "cell_type": "code",
   "execution_count": 104,
   "id": "0b21cc86",
   "metadata": {},
   "outputs": [
    {
     "name": "stdout",
     "output_type": "stream",
     "text": [
      "9 7 5 3 1 "
     ]
    }
   ],
   "source": [
    "i:int = 9\n",
    "    \n",
    "while i > 0:\n",
    "    print(i, end=' ')\n",
    "    i -= 2"
   ]
  },
  {
   "cell_type": "markdown",
   "id": "3150879b",
   "metadata": {},
   "source": [
    "## 6. 类 Class\n",
    "\n",
    "### What\n",
    "模拟现实中的某类东西。譬如：狗🐶，猫🐱，花🌹，人类💃，衣服👔\n",
    "\n",
    "### Why\n",
    "这类东西都是独立的。有自己的系统。\n",
    "\n",
    "### How\n",
    "\n",
    "```\n",
    "class Dog:\n",
    "    def __init__(self, name, age, sex):\n",
    "        self._name = name\n",
    "        self._age  = age\n",
    "        self._sex  = sex\n",
    "```\n"
   ]
  },
  {
   "cell_type": "code",
   "execution_count": 108,
   "id": "a379f782",
   "metadata": {},
   "outputs": [],
   "source": [
    "class Dog:\n",
    "    def __init__(self, name, age, sex):\n",
    "        self._name = name\n",
    "        self._age  = age\n",
    "        self._sex  = sex\n",
    "        \n",
    "    def __str__(self)->str:\n",
    "        return f'Dog: name is {self._name}, age is {self._age}, sex is {self._sex}'"
   ]
  },
  {
   "cell_type": "code",
   "execution_count": 109,
   "id": "58c2e22b",
   "metadata": {},
   "outputs": [],
   "source": [
    "d1 = Dog('dog1', 3, 'male')\n",
    "d2 = Dog('dog2', 5, 'female')\n",
    "d3 = Dog('dog3', 1, 'unknown')"
   ]
  },
  {
   "cell_type": "code",
   "execution_count": 110,
   "id": "e3961150",
   "metadata": {},
   "outputs": [
    {
     "name": "stdout",
     "output_type": "stream",
     "text": [
      "Dog: name is dog1, age is 3, sex is male\n"
     ]
    }
   ],
   "source": [
    "print(d1)"
   ]
  },
  {
   "cell_type": "markdown",
   "id": "84883942",
   "metadata": {},
   "source": [
    "## 7. 数据结构\n",
    "\n",
    "### What\n",
    "模拟现实中的大型容器。譬如：箱子，衣柜，集装箱，手提箱，背包\n",
    "\n",
    "### Why\n",
    "我们可以批量地处理大型容器里的物品\n",
    "\n",
    "### How\n",
    "\n",
    "```\n",
    "numbers:list = [1, 2, 3]\n",
    "\n",
    "workdays:tuple = ('Mon', 'Tue', 'Wed', 'Thu', 'Fri', 'Sat', 'Sun')\n",
    "\n",
    "members:dict = {\n",
    "    'name' : 'ZL',\n",
    "    'age' : 99,\n",
    "    'sex' : 'male'\n",
    "}\n",
    "```"
   ]
  },
  {
   "cell_type": "code",
   "execution_count": 111,
   "id": "864e3bcd",
   "metadata": {},
   "outputs": [
    {
     "name": "stdout",
     "output_type": "stream",
     "text": [
      "Dog: name is dog1, age is 3, sex is male\n",
      "Dog: name is dog2, age is 5, sex is female\n",
      "Dog: name is dog3, age is 1, sex is unknown\n"
     ]
    }
   ],
   "source": [
    "dogs = [d1, d2, d3]\n",
    "for dog in dogs:\n",
    "    print(dog)"
   ]
  },
  {
   "cell_type": "code",
   "execution_count": 112,
   "id": "ef49234a",
   "metadata": {},
   "outputs": [
    {
     "name": "stdout",
     "output_type": "stream",
     "text": [
      "Mon\n",
      "Tue\n",
      "Wed\n",
      "Thu\n",
      "Fri\n",
      "Sat\n",
      "Sun\n"
     ]
    }
   ],
   "source": [
    "workdays:tuple = ('Mon', 'Tue', 'Wed', 'Thu', 'Fri', 'Sat', 'Sun')\n",
    "    \n",
    "for workday in workdays:\n",
    "    print(workday)"
   ]
  },
  {
   "cell_type": "code",
   "execution_count": 113,
   "id": "1df464b5",
   "metadata": {},
   "outputs": [
    {
     "name": "stdout",
     "output_type": "stream",
     "text": [
      "name ZL\n",
      "age 99\n",
      "sex male\n"
     ]
    }
   ],
   "source": [
    "members:dict = {\n",
    "    'name' : 'ZL',\n",
    "    'age' : 99,\n",
    "    'sex' : 'male'\n",
    "}\n",
    "    \n",
    "for k, v in members.items():\n",
    "    print(k, v)"
   ]
  },
  {
   "cell_type": "code",
   "execution_count": null,
   "id": "b5d8da7b",
   "metadata": {},
   "outputs": [],
   "source": []
  }
 ],
 "metadata": {
  "celltoolbar": "Slideshow",
  "kernelspec": {
   "display_name": "Python 3",
   "language": "python",
   "name": "python3"
  },
  "language_info": {
   "codemirror_mode": {
    "name": "ipython",
    "version": 3
   },
   "file_extension": ".py",
   "mimetype": "text/x-python",
   "name": "python",
   "nbconvert_exporter": "python",
   "pygments_lexer": "ipython3",
   "version": "3.6.13"
  }
 },
 "nbformat": 4,
 "nbformat_minor": 5
}
