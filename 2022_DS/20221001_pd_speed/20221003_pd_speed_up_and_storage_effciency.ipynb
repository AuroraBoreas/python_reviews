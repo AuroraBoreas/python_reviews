{
 "cells": [
  {
   "cell_type": "code",
   "execution_count": 6,
   "id": "53a4ab21",
   "metadata": {},
   "outputs": [],
   "source": [
    "import numpy as np\n",
    "import pandas as pd"
   ]
  },
  {
   "cell_type": "markdown",
   "id": "622708db",
   "metadata": {},
   "source": [
    "Methods\n",
    "\n",
    "1. [x] for loop\n",
    "2. [x] pd.iterow()\n",
    "3. [^] pd.apply()\n",
    "4. [^] pd.map()\n",
    "5. [O] np.select()\n",
    "6. [O] np.where()\n",
    "7. [O] np.vectorize()\n",
    "8. [O] pd.shift()\n",
    "9. [O] pd.str.contains() # re\n",
    "10. [O] dask\n",
    "11. [O] from multithreading import Pool -> pd.concat"
   ]
  },
  {
   "cell_type": "code",
   "execution_count": 59,
   "id": "b338e893",
   "metadata": {},
   "outputs": [],
   "source": [
    "def get_dataset(size:int) -> pd.DataFrame:\n",
    "    df = pd.DataFrame()\n",
    "    df['A'] = np.random.choice(['left', 'middle', 'right'], size)\n",
    "    df['B'] = np.random.randint(1, 50, size)\n",
    "    df['C'] = np.random.choice(['red', 'yellow', 'blue', 'green'], size)\n",
    "    df['D'] = np.random.uniform(0, 1, size)\n",
    "    dates = pd.date_range('2020-01-01', '2022-12-31')\n",
    "    df['date'] = np.random.choice(dates, size)\n",
    "    return df"
   ]
  },
  {
   "cell_type": "code",
   "execution_count": 8,
   "id": "b2965a17",
   "metadata": {},
   "outputs": [],
   "source": [
    "df = get_dataset(100)"
   ]
  },
  {
   "cell_type": "code",
   "execution_count": 18,
   "id": "10ac438f",
   "metadata": {},
   "outputs": [
    {
     "name": "stdout",
     "output_type": "stream",
     "text": [
      "133 µs ± 2.56 µs per loop (mean ± std. dev. of 7 runs, 10000 loops each)\n"
     ]
    }
   ],
   "source": [
    "%timeit df['age_gt_30'] = np.where(df['B'].values > 30, 'yes', 'no')"
   ]
  },
  {
   "cell_type": "code",
   "execution_count": 19,
   "id": "e1a740d6",
   "metadata": {},
   "outputs": [
    {
     "data": {
      "text/html": [
       "<div>\n",
       "<style scoped>\n",
       "    .dataframe tbody tr th:only-of-type {\n",
       "        vertical-align: middle;\n",
       "    }\n",
       "\n",
       "    .dataframe tbody tr th {\n",
       "        vertical-align: top;\n",
       "    }\n",
       "\n",
       "    .dataframe thead th {\n",
       "        text-align: right;\n",
       "    }\n",
       "</style>\n",
       "<table border=\"1\" class=\"dataframe\">\n",
       "  <thead>\n",
       "    <tr style=\"text-align: right;\">\n",
       "      <th></th>\n",
       "      <th>A</th>\n",
       "      <th>B</th>\n",
       "      <th>C</th>\n",
       "      <th>D</th>\n",
       "      <th>age_gt_30</th>\n",
       "      <th>symbolize</th>\n",
       "    </tr>\n",
       "  </thead>\n",
       "  <tbody>\n",
       "    <tr>\n",
       "      <th>0</th>\n",
       "      <td>middle</td>\n",
       "      <td>37</td>\n",
       "      <td>yellow</td>\n",
       "      <td>0.367555</td>\n",
       "      <td>yes</td>\n",
       "      <td>-</td>\n",
       "    </tr>\n",
       "    <tr>\n",
       "      <th>1</th>\n",
       "      <td>left</td>\n",
       "      <td>47</td>\n",
       "      <td>green</td>\n",
       "      <td>0.899406</td>\n",
       "      <td>yes</td>\n",
       "      <td>&amp;</td>\n",
       "    </tr>\n",
       "    <tr>\n",
       "      <th>2</th>\n",
       "      <td>middle</td>\n",
       "      <td>32</td>\n",
       "      <td>red</td>\n",
       "      <td>0.161801</td>\n",
       "      <td>yes</td>\n",
       "      <td>-</td>\n",
       "    </tr>\n",
       "    <tr>\n",
       "      <th>3</th>\n",
       "      <td>right</td>\n",
       "      <td>3</td>\n",
       "      <td>yellow</td>\n",
       "      <td>0.783261</td>\n",
       "      <td>no</td>\n",
       "      <td>^</td>\n",
       "    </tr>\n",
       "    <tr>\n",
       "      <th>4</th>\n",
       "      <td>middle</td>\n",
       "      <td>10</td>\n",
       "      <td>yellow</td>\n",
       "      <td>0.999057</td>\n",
       "      <td>no</td>\n",
       "      <td>-</td>\n",
       "    </tr>\n",
       "  </tbody>\n",
       "</table>\n",
       "</div>"
      ],
      "text/plain": [
       "        A   B       C         D age_gt_30 symbolize\n",
       "0  middle  37  yellow  0.367555       yes        - \n",
       "1    left  47   green  0.899406       yes        & \n",
       "2  middle  32     red  0.161801       yes        - \n",
       "3   right   3  yellow  0.783261        no        ^ \n",
       "4  middle  10  yellow  0.999057        no        - "
      ]
     },
     "execution_count": 19,
     "metadata": {},
     "output_type": "execute_result"
    }
   ],
   "source": [
    "df.head()"
   ]
  },
  {
   "cell_type": "code",
   "execution_count": 20,
   "id": "276d0340",
   "metadata": {},
   "outputs": [
    {
     "name": "stdout",
     "output_type": "stream",
     "text": [
      "245 µs ± 39 µs per loop (mean ± std. dev. of 7 runs, 1000 loops each)\n"
     ]
    }
   ],
   "source": [
    "conditions = [\n",
    "    df['A'] == 'middle',\n",
    "    df['A'] == 'right',\n",
    "    df['A'] == 'left'\n",
    "]\n",
    "\n",
    "choices = [\n",
    "    ' - ',\n",
    "    ' ^ ',\n",
    "    ' & ',\n",
    "]\n",
    "\n",
    "%timeit df['symbolize'] = np.select(conditions, choices, 'na')"
   ]
  },
  {
   "cell_type": "code",
   "execution_count": 16,
   "id": "c9abc47c",
   "metadata": {},
   "outputs": [
    {
     "data": {
      "text/html": [
       "<div>\n",
       "<style scoped>\n",
       "    .dataframe tbody tr th:only-of-type {\n",
       "        vertical-align: middle;\n",
       "    }\n",
       "\n",
       "    .dataframe tbody tr th {\n",
       "        vertical-align: top;\n",
       "    }\n",
       "\n",
       "    .dataframe thead th {\n",
       "        text-align: right;\n",
       "    }\n",
       "</style>\n",
       "<table border=\"1\" class=\"dataframe\">\n",
       "  <thead>\n",
       "    <tr style=\"text-align: right;\">\n",
       "      <th></th>\n",
       "      <th>A</th>\n",
       "      <th>B</th>\n",
       "      <th>C</th>\n",
       "      <th>D</th>\n",
       "      <th>age_gt_30</th>\n",
       "      <th>symbolize</th>\n",
       "    </tr>\n",
       "  </thead>\n",
       "  <tbody>\n",
       "    <tr>\n",
       "      <th>0</th>\n",
       "      <td>middle</td>\n",
       "      <td>37</td>\n",
       "      <td>yellow</td>\n",
       "      <td>0.367555</td>\n",
       "      <td>yes</td>\n",
       "      <td>-</td>\n",
       "    </tr>\n",
       "    <tr>\n",
       "      <th>1</th>\n",
       "      <td>left</td>\n",
       "      <td>47</td>\n",
       "      <td>green</td>\n",
       "      <td>0.899406</td>\n",
       "      <td>yes</td>\n",
       "      <td>&amp;</td>\n",
       "    </tr>\n",
       "    <tr>\n",
       "      <th>2</th>\n",
       "      <td>middle</td>\n",
       "      <td>32</td>\n",
       "      <td>red</td>\n",
       "      <td>0.161801</td>\n",
       "      <td>yes</td>\n",
       "      <td>-</td>\n",
       "    </tr>\n",
       "    <tr>\n",
       "      <th>3</th>\n",
       "      <td>right</td>\n",
       "      <td>3</td>\n",
       "      <td>yellow</td>\n",
       "      <td>0.783261</td>\n",
       "      <td>no</td>\n",
       "      <td>^</td>\n",
       "    </tr>\n",
       "    <tr>\n",
       "      <th>4</th>\n",
       "      <td>middle</td>\n",
       "      <td>10</td>\n",
       "      <td>yellow</td>\n",
       "      <td>0.999057</td>\n",
       "      <td>no</td>\n",
       "      <td>-</td>\n",
       "    </tr>\n",
       "  </tbody>\n",
       "</table>\n",
       "</div>"
      ],
      "text/plain": [
       "        A   B       C         D age_gt_30 symbolize\n",
       "0  middle  37  yellow  0.367555       yes        - \n",
       "1    left  47   green  0.899406       yes        & \n",
       "2  middle  32     red  0.161801       yes        - \n",
       "3   right   3  yellow  0.783261        no        ^ \n",
       "4  middle  10  yellow  0.999057        no        - "
      ]
     },
     "execution_count": 16,
     "metadata": {},
     "output_type": "execute_result"
    }
   ],
   "source": [
    "df.head()"
   ]
  },
  {
   "cell_type": "code",
   "execution_count": null,
   "id": "bcc62ee8",
   "metadata": {},
   "outputs": [],
   "source": []
  },
  {
   "cell_type": "code",
   "execution_count": 23,
   "id": "87035e1b",
   "metadata": {},
   "outputs": [
    {
     "name": "stdout",
     "output_type": "stream",
     "text": [
      "129 µs ± 1.32 µs per loop (mean ± std. dev. of 7 runs, 10000 loops each)\n"
     ]
    }
   ],
   "source": [
    "%timeit df['C'].isin(['red', 'blue'])"
   ]
  },
  {
   "cell_type": "code",
   "execution_count": 29,
   "id": "5b5783ee",
   "metadata": {},
   "outputs": [
    {
     "name": "stdout",
     "output_type": "stream",
     "text": [
      " "
     ]
    }
   ],
   "source": [
    "#%load_ext line_profiler\n",
    "%prun df['C'].isin(['red', 'blue'])"
   ]
  },
  {
   "cell_type": "code",
   "execution_count": 33,
   "id": "2b88cfce",
   "metadata": {},
   "outputs": [
    {
     "name": "stdout",
     "output_type": "stream",
     "text": [
      "Looking in indexes: http://mirrors.aliyun.com/pypi/simple/\n",
      "Collecting memory_profiler\n",
      "  Downloading http://mirrors.aliyun.com/pypi/packages/06/dd/7308a8ef1902db9d81c5bc226befe346a87ed8787caff00b8d91ed9f3b86/memory_profiler-0.60.0.tar.gz (38 kB)\n",
      "Requirement already satisfied: psutil in /Applications/Anaconda/anaconda3/lib/python3.6/site-packages (from memory_profiler) (5.8.0)\n",
      "Building wheels for collected packages: memory-profiler\n",
      "  Building wheel for memory-profiler (setup.py) ... \u001b[?25ldone\n",
      "\u001b[?25h  Created wheel for memory-profiler: filename=memory_profiler-0.60.0-py3-none-any.whl size=31276 sha256=29f97d625fec74a9bffa5a914b5418ebaaf041e8d39a2ae2ba9aaffb528985c2\n",
      "  Stored in directory: /Users/zhangliang/Library/Caches/pip/wheels/01/1e/e3/5ac53cc49cb6183982d6a8665facdabe557cbf32f078b8150c\n",
      "Successfully built memory-profiler\n",
      "Installing collected packages: memory-profiler\n",
      "Successfully installed memory-profiler-0.60.0\n",
      "Note: you may need to restart the kernel to use updated packages.\n"
     ]
    }
   ],
   "source": [
    "pip install memory_profiler"
   ]
  },
  {
   "cell_type": "code",
   "execution_count": 36,
   "id": "7917a9bc",
   "metadata": {},
   "outputs": [
    {
     "name": "stdout",
     "output_type": "stream",
     "text": [
      "CPU times: user 2 µs, sys: 0 ns, total: 2 µs\n",
      "Wall time: 5.01 µs\n"
     ]
    }
   ],
   "source": [
    "%time\n",
    "conditions = [\n",
    "    df['C'].str.contains(r'.*?el', na=False),\n",
    "    df['C'].str.contains(r'^blue|^re\\w+', na=False)\n",
    "]\n",
    "\n",
    "choices = ['yell', 'magic']\n",
    "\n",
    "df['ym'] = np.select(conditions, choices, default='na')"
   ]
  },
  {
   "cell_type": "code",
   "execution_count": 38,
   "id": "6635b372",
   "metadata": {},
   "outputs": [
    {
     "data": {
      "text/html": [
       "<div>\n",
       "<style scoped>\n",
       "    .dataframe tbody tr th:only-of-type {\n",
       "        vertical-align: middle;\n",
       "    }\n",
       "\n",
       "    .dataframe tbody tr th {\n",
       "        vertical-align: top;\n",
       "    }\n",
       "\n",
       "    .dataframe thead th {\n",
       "        text-align: right;\n",
       "    }\n",
       "</style>\n",
       "<table border=\"1\" class=\"dataframe\">\n",
       "  <thead>\n",
       "    <tr style=\"text-align: right;\">\n",
       "      <th></th>\n",
       "      <th>A</th>\n",
       "      <th>B</th>\n",
       "      <th>C</th>\n",
       "      <th>D</th>\n",
       "      <th>age_gt_30</th>\n",
       "      <th>symbolize</th>\n",
       "      <th>ym</th>\n",
       "    </tr>\n",
       "  </thead>\n",
       "  <tbody>\n",
       "    <tr>\n",
       "      <th>0</th>\n",
       "      <td>middle</td>\n",
       "      <td>37</td>\n",
       "      <td>yellow</td>\n",
       "      <td>0.367555</td>\n",
       "      <td>yes</td>\n",
       "      <td>-</td>\n",
       "      <td>yell</td>\n",
       "    </tr>\n",
       "    <tr>\n",
       "      <th>1</th>\n",
       "      <td>left</td>\n",
       "      <td>47</td>\n",
       "      <td>green</td>\n",
       "      <td>0.899406</td>\n",
       "      <td>yes</td>\n",
       "      <td>&amp;</td>\n",
       "      <td>na</td>\n",
       "    </tr>\n",
       "    <tr>\n",
       "      <th>2</th>\n",
       "      <td>middle</td>\n",
       "      <td>32</td>\n",
       "      <td>red</td>\n",
       "      <td>0.161801</td>\n",
       "      <td>yes</td>\n",
       "      <td>-</td>\n",
       "      <td>magic</td>\n",
       "    </tr>\n",
       "    <tr>\n",
       "      <th>3</th>\n",
       "      <td>right</td>\n",
       "      <td>3</td>\n",
       "      <td>yellow</td>\n",
       "      <td>0.783261</td>\n",
       "      <td>no</td>\n",
       "      <td>^</td>\n",
       "      <td>yell</td>\n",
       "    </tr>\n",
       "    <tr>\n",
       "      <th>4</th>\n",
       "      <td>middle</td>\n",
       "      <td>10</td>\n",
       "      <td>yellow</td>\n",
       "      <td>0.999057</td>\n",
       "      <td>no</td>\n",
       "      <td>-</td>\n",
       "      <td>yell</td>\n",
       "    </tr>\n",
       "  </tbody>\n",
       "</table>\n",
       "</div>"
      ],
      "text/plain": [
       "        A   B       C         D age_gt_30 symbolize     ym\n",
       "0  middle  37  yellow  0.367555       yes        -    yell\n",
       "1    left  47   green  0.899406       yes        &      na\n",
       "2  middle  32     red  0.161801       yes        -   magic\n",
       "3   right   3  yellow  0.783261        no        ^    yell\n",
       "4  middle  10  yellow  0.999057        no        -    yell"
      ]
     },
     "execution_count": 38,
     "metadata": {},
     "output_type": "execute_result"
    }
   ],
   "source": [
    "df.head()"
   ]
  },
  {
   "cell_type": "code",
   "execution_count": 39,
   "id": "ae609509",
   "metadata": {},
   "outputs": [
    {
     "data": {
      "text/html": [
       "<div>\n",
       "<style scoped>\n",
       "    .dataframe tbody tr th:only-of-type {\n",
       "        vertical-align: middle;\n",
       "    }\n",
       "\n",
       "    .dataframe tbody tr th {\n",
       "        vertical-align: top;\n",
       "    }\n",
       "\n",
       "    .dataframe thead th {\n",
       "        text-align: right;\n",
       "    }\n",
       "</style>\n",
       "<table border=\"1\" class=\"dataframe\">\n",
       "  <thead>\n",
       "    <tr style=\"text-align: right;\">\n",
       "      <th></th>\n",
       "      <th>A</th>\n",
       "      <th>B</th>\n",
       "      <th>C</th>\n",
       "      <th>D</th>\n",
       "      <th>age_gt_30</th>\n",
       "      <th>symbolize</th>\n",
       "      <th>ym</th>\n",
       "    </tr>\n",
       "  </thead>\n",
       "  <tbody>\n",
       "    <tr>\n",
       "      <th>95</th>\n",
       "      <td>middle</td>\n",
       "      <td>8</td>\n",
       "      <td>red</td>\n",
       "      <td>0.458504</td>\n",
       "      <td>no</td>\n",
       "      <td>-</td>\n",
       "      <td>magic</td>\n",
       "    </tr>\n",
       "    <tr>\n",
       "      <th>96</th>\n",
       "      <td>middle</td>\n",
       "      <td>42</td>\n",
       "      <td>blue</td>\n",
       "      <td>0.070256</td>\n",
       "      <td>yes</td>\n",
       "      <td>-</td>\n",
       "      <td>magic</td>\n",
       "    </tr>\n",
       "    <tr>\n",
       "      <th>97</th>\n",
       "      <td>middle</td>\n",
       "      <td>4</td>\n",
       "      <td>red</td>\n",
       "      <td>0.735229</td>\n",
       "      <td>no</td>\n",
       "      <td>-</td>\n",
       "      <td>magic</td>\n",
       "    </tr>\n",
       "    <tr>\n",
       "      <th>98</th>\n",
       "      <td>left</td>\n",
       "      <td>20</td>\n",
       "      <td>green</td>\n",
       "      <td>0.261635</td>\n",
       "      <td>no</td>\n",
       "      <td>&amp;</td>\n",
       "      <td>na</td>\n",
       "    </tr>\n",
       "    <tr>\n",
       "      <th>99</th>\n",
       "      <td>middle</td>\n",
       "      <td>38</td>\n",
       "      <td>red</td>\n",
       "      <td>0.534722</td>\n",
       "      <td>yes</td>\n",
       "      <td>-</td>\n",
       "      <td>magic</td>\n",
       "    </tr>\n",
       "  </tbody>\n",
       "</table>\n",
       "</div>"
      ],
      "text/plain": [
       "         A   B      C         D age_gt_30 symbolize     ym\n",
       "95  middle   8    red  0.458504        no        -   magic\n",
       "96  middle  42   blue  0.070256       yes        -   magic\n",
       "97  middle   4    red  0.735229        no        -   magic\n",
       "98    left  20  green  0.261635        no        &      na\n",
       "99  middle  38    red  0.534722       yes        -   magic"
      ]
     },
     "execution_count": 39,
     "metadata": {},
     "output_type": "execute_result"
    }
   ],
   "source": [
    "df.tail()"
   ]
  },
  {
   "cell_type": "code",
   "execution_count": 40,
   "id": "c98fbb72",
   "metadata": {},
   "outputs": [
    {
     "name": "stdout",
     "output_type": "stream",
     "text": [
      "CPU times: user 2 µs, sys: 0 ns, total: 2 µs\n",
      "Wall time: 3.81 µs\n"
     ]
    }
   ],
   "source": [
    "%time\n",
    "mp = {\n",
    "    'middle' : 'S',\n",
    "    'left'   : 'M',\n",
    "    'right'  : 'N'\n",
    "}\n",
    "\n",
    "df['dict_lUT'] = np.where(\n",
    "    df['D'].values > 0.2,\n",
    "    'hello',\n",
    "    df['A'].map(mp)\n",
    ")"
   ]
  },
  {
   "cell_type": "code",
   "execution_count": 42,
   "id": "56240c5a",
   "metadata": {},
   "outputs": [
    {
     "data": {
      "text/html": [
       "<div>\n",
       "<style scoped>\n",
       "    .dataframe tbody tr th:only-of-type {\n",
       "        vertical-align: middle;\n",
       "    }\n",
       "\n",
       "    .dataframe tbody tr th {\n",
       "        vertical-align: top;\n",
       "    }\n",
       "\n",
       "    .dataframe thead th {\n",
       "        text-align: right;\n",
       "    }\n",
       "</style>\n",
       "<table border=\"1\" class=\"dataframe\">\n",
       "  <thead>\n",
       "    <tr style=\"text-align: right;\">\n",
       "      <th></th>\n",
       "      <th>A</th>\n",
       "      <th>B</th>\n",
       "      <th>C</th>\n",
       "      <th>D</th>\n",
       "      <th>age_gt_30</th>\n",
       "      <th>symbolize</th>\n",
       "      <th>ym</th>\n",
       "      <th>dict_lUT</th>\n",
       "    </tr>\n",
       "  </thead>\n",
       "  <tbody>\n",
       "    <tr>\n",
       "      <th>95</th>\n",
       "      <td>middle</td>\n",
       "      <td>8</td>\n",
       "      <td>red</td>\n",
       "      <td>0.458504</td>\n",
       "      <td>no</td>\n",
       "      <td>-</td>\n",
       "      <td>magic</td>\n",
       "      <td>hello</td>\n",
       "    </tr>\n",
       "    <tr>\n",
       "      <th>96</th>\n",
       "      <td>middle</td>\n",
       "      <td>42</td>\n",
       "      <td>blue</td>\n",
       "      <td>0.070256</td>\n",
       "      <td>yes</td>\n",
       "      <td>-</td>\n",
       "      <td>magic</td>\n",
       "      <td>S</td>\n",
       "    </tr>\n",
       "    <tr>\n",
       "      <th>97</th>\n",
       "      <td>middle</td>\n",
       "      <td>4</td>\n",
       "      <td>red</td>\n",
       "      <td>0.735229</td>\n",
       "      <td>no</td>\n",
       "      <td>-</td>\n",
       "      <td>magic</td>\n",
       "      <td>hello</td>\n",
       "    </tr>\n",
       "    <tr>\n",
       "      <th>98</th>\n",
       "      <td>left</td>\n",
       "      <td>20</td>\n",
       "      <td>green</td>\n",
       "      <td>0.261635</td>\n",
       "      <td>no</td>\n",
       "      <td>&amp;</td>\n",
       "      <td>na</td>\n",
       "      <td>hello</td>\n",
       "    </tr>\n",
       "    <tr>\n",
       "      <th>99</th>\n",
       "      <td>middle</td>\n",
       "      <td>38</td>\n",
       "      <td>red</td>\n",
       "      <td>0.534722</td>\n",
       "      <td>yes</td>\n",
       "      <td>-</td>\n",
       "      <td>magic</td>\n",
       "      <td>hello</td>\n",
       "    </tr>\n",
       "  </tbody>\n",
       "</table>\n",
       "</div>"
      ],
      "text/plain": [
       "         A   B      C         D age_gt_30 symbolize     ym dict_lUT\n",
       "95  middle   8    red  0.458504        no        -   magic    hello\n",
       "96  middle  42   blue  0.070256       yes        -   magic        S\n",
       "97  middle   4    red  0.735229        no        -   magic    hello\n",
       "98    left  20  green  0.261635        no        &      na    hello\n",
       "99  middle  38    red  0.534722       yes        -   magic    hello"
      ]
     },
     "execution_count": 42,
     "metadata": {},
     "output_type": "execute_result"
    }
   ],
   "source": [
    "df.head()\n",
    "df.tail()"
   ]
  },
  {
   "cell_type": "code",
   "execution_count": 43,
   "id": "c670d03c",
   "metadata": {},
   "outputs": [],
   "source": [
    "# pd[].values => np.dt.days"
   ]
  },
  {
   "cell_type": "code",
   "execution_count": 45,
   "id": "3f406875",
   "metadata": {},
   "outputs": [],
   "source": [
    "# ndarray type casting\n",
    "# np.timedelta64(1, 'D')\n",
    "# np.astype('timedelta64[D]')"
   ]
  },
  {
   "cell_type": "code",
   "execution_count": 46,
   "id": "2430d053",
   "metadata": {},
   "outputs": [
    {
     "data": {
      "text/plain": [
       "array([0, 0, 0, 0, 0, 0, 0, 0, 0, 0, 0, 0, 0, 0, 0, 0, 0, 0, 0, 0, 0, 0,\n",
       "       0, 0, 0, 0, 0, 0, 0, 0, 0, 0, 0, 0, 0, 0, 0, 0, 0, 0, 0, 0, 0, 0,\n",
       "       0, 0, 0, 0, 0, 0, 0, 0, 0, 0, 0, 0, 0, 0, 0, 0, 0, 0, 0, 0, 0, 0,\n",
       "       0, 0, 0, 0, 0, 0, 0, 0, 0, 0, 0, 0, 0, 0, 0, 0, 0, 0, 0, 0, 0, 0,\n",
       "       0, 0, 0, 0, 0, 0, 0, 0, 0, 0, 0, 0], dtype='timedelta64[D]')"
      ]
     },
     "execution_count": 46,
     "metadata": {},
     "output_type": "execute_result"
    }
   ],
   "source": [
    "df['D'].values.astype('timedelta64[D]')"
   ]
  },
  {
   "cell_type": "code",
   "execution_count": 49,
   "id": "ebeba86c",
   "metadata": {},
   "outputs": [
    {
     "data": {
      "text/plain": [
       "0     0\n",
       "1     0\n",
       "2     0\n",
       "3     0\n",
       "4     0\n",
       "5     0\n",
       "6     0\n",
       "7     0\n",
       "8     0\n",
       "9     0\n",
       "10    0\n",
       "11    0\n",
       "12    0\n",
       "13    0\n",
       "14    0\n",
       "15    0\n",
       "16    0\n",
       "17    0\n",
       "18    0\n",
       "19    0\n",
       "20    0\n",
       "21    0\n",
       "22    0\n",
       "23    0\n",
       "24    0\n",
       "25    0\n",
       "26    0\n",
       "27    0\n",
       "28    0\n",
       "29    0\n",
       "     ..\n",
       "70    0\n",
       "71    0\n",
       "72    0\n",
       "73    0\n",
       "74    0\n",
       "75    0\n",
       "76    0\n",
       "77    0\n",
       "78    0\n",
       "79    0\n",
       "80    0\n",
       "81    0\n",
       "82    0\n",
       "83    0\n",
       "84    0\n",
       "85    0\n",
       "86    0\n",
       "87    0\n",
       "88    0\n",
       "89    0\n",
       "90    0\n",
       "91    0\n",
       "92    0\n",
       "93    0\n",
       "94    0\n",
       "95    0\n",
       "96    0\n",
       "97    0\n",
       "98    0\n",
       "99    0\n",
       "Name: D, Length: 100, dtype: int64"
      ]
     },
     "execution_count": 49,
     "metadata": {},
     "output_type": "execute_result"
    }
   ],
   "source": [
    "df['D'].astype('timedelta64[D]').dt.days"
   ]
  },
  {
   "cell_type": "code",
   "execution_count": 60,
   "id": "96846602",
   "metadata": {},
   "outputs": [],
   "source": [
    "df2 = get_dataset(1_000_000)"
   ]
  },
  {
   "cell_type": "code",
   "execution_count": 61,
   "id": "510c3497",
   "metadata": {},
   "outputs": [
    {
     "data": {
      "text/html": [
       "<div>\n",
       "<style scoped>\n",
       "    .dataframe tbody tr th:only-of-type {\n",
       "        vertical-align: middle;\n",
       "    }\n",
       "\n",
       "    .dataframe tbody tr th {\n",
       "        vertical-align: top;\n",
       "    }\n",
       "\n",
       "    .dataframe thead th {\n",
       "        text-align: right;\n",
       "    }\n",
       "</style>\n",
       "<table border=\"1\" class=\"dataframe\">\n",
       "  <thead>\n",
       "    <tr style=\"text-align: right;\">\n",
       "      <th></th>\n",
       "      <th>A</th>\n",
       "      <th>B</th>\n",
       "      <th>C</th>\n",
       "      <th>D</th>\n",
       "      <th>date</th>\n",
       "    </tr>\n",
       "  </thead>\n",
       "  <tbody>\n",
       "    <tr>\n",
       "      <th>0</th>\n",
       "      <td>middle</td>\n",
       "      <td>6</td>\n",
       "      <td>red</td>\n",
       "      <td>0.336495</td>\n",
       "      <td>2022-05-08</td>\n",
       "    </tr>\n",
       "    <tr>\n",
       "      <th>1</th>\n",
       "      <td>middle</td>\n",
       "      <td>28</td>\n",
       "      <td>blue</td>\n",
       "      <td>0.338123</td>\n",
       "      <td>2021-08-29</td>\n",
       "    </tr>\n",
       "    <tr>\n",
       "      <th>2</th>\n",
       "      <td>left</td>\n",
       "      <td>17</td>\n",
       "      <td>red</td>\n",
       "      <td>0.769266</td>\n",
       "      <td>2021-12-20</td>\n",
       "    </tr>\n",
       "    <tr>\n",
       "      <th>3</th>\n",
       "      <td>left</td>\n",
       "      <td>6</td>\n",
       "      <td>blue</td>\n",
       "      <td>0.570400</td>\n",
       "      <td>2021-08-26</td>\n",
       "    </tr>\n",
       "    <tr>\n",
       "      <th>4</th>\n",
       "      <td>middle</td>\n",
       "      <td>1</td>\n",
       "      <td>red</td>\n",
       "      <td>0.416746</td>\n",
       "      <td>2021-05-03</td>\n",
       "    </tr>\n",
       "  </tbody>\n",
       "</table>\n",
       "</div>"
      ],
      "text/plain": [
       "        A   B     C         D       date\n",
       "0  middle   6   red  0.336495 2022-05-08\n",
       "1  middle  28  blue  0.338123 2021-08-29\n",
       "2    left  17   red  0.769266 2021-12-20\n",
       "3    left   6  blue  0.570400 2021-08-26\n",
       "4  middle   1   red  0.416746 2021-05-03"
      ]
     },
     "execution_count": 61,
     "metadata": {},
     "output_type": "execute_result"
    }
   ],
   "source": [
    "df2.head()"
   ]
  },
  {
   "cell_type": "code",
   "execution_count": 62,
   "id": "60fb0085",
   "metadata": {},
   "outputs": [
    {
     "data": {
      "text/html": [
       "<div>\n",
       "<style scoped>\n",
       "    .dataframe tbody tr th:only-of-type {\n",
       "        vertical-align: middle;\n",
       "    }\n",
       "\n",
       "    .dataframe tbody tr th {\n",
       "        vertical-align: top;\n",
       "    }\n",
       "\n",
       "    .dataframe thead th {\n",
       "        text-align: right;\n",
       "    }\n",
       "</style>\n",
       "<table border=\"1\" class=\"dataframe\">\n",
       "  <thead>\n",
       "    <tr style=\"text-align: right;\">\n",
       "      <th></th>\n",
       "      <th>A</th>\n",
       "      <th>B</th>\n",
       "      <th>C</th>\n",
       "      <th>D</th>\n",
       "      <th>date</th>\n",
       "    </tr>\n",
       "  </thead>\n",
       "  <tbody>\n",
       "    <tr>\n",
       "      <th>999995</th>\n",
       "      <td>middle</td>\n",
       "      <td>24</td>\n",
       "      <td>green</td>\n",
       "      <td>0.076154</td>\n",
       "      <td>2020-10-14</td>\n",
       "    </tr>\n",
       "    <tr>\n",
       "      <th>999996</th>\n",
       "      <td>middle</td>\n",
       "      <td>20</td>\n",
       "      <td>green</td>\n",
       "      <td>0.601369</td>\n",
       "      <td>2020-03-04</td>\n",
       "    </tr>\n",
       "    <tr>\n",
       "      <th>999997</th>\n",
       "      <td>left</td>\n",
       "      <td>1</td>\n",
       "      <td>blue</td>\n",
       "      <td>0.679519</td>\n",
       "      <td>2020-02-08</td>\n",
       "    </tr>\n",
       "    <tr>\n",
       "      <th>999998</th>\n",
       "      <td>left</td>\n",
       "      <td>27</td>\n",
       "      <td>red</td>\n",
       "      <td>0.145602</td>\n",
       "      <td>2020-04-22</td>\n",
       "    </tr>\n",
       "    <tr>\n",
       "      <th>999999</th>\n",
       "      <td>right</td>\n",
       "      <td>19</td>\n",
       "      <td>blue</td>\n",
       "      <td>0.760244</td>\n",
       "      <td>2020-11-17</td>\n",
       "    </tr>\n",
       "  </tbody>\n",
       "</table>\n",
       "</div>"
      ],
      "text/plain": [
       "             A   B      C         D       date\n",
       "999995  middle  24  green  0.076154 2020-10-14\n",
       "999996  middle  20  green  0.601369 2020-03-04\n",
       "999997    left   1   blue  0.679519 2020-02-08\n",
       "999998    left  27    red  0.145602 2020-04-22\n",
       "999999   right  19   blue  0.760244 2020-11-17"
      ]
     },
     "execution_count": 62,
     "metadata": {},
     "output_type": "execute_result"
    }
   ],
   "source": [
    "df2.tail()"
   ]
  },
  {
   "cell_type": "code",
   "execution_count": 63,
   "id": "469ddff7",
   "metadata": {},
   "outputs": [],
   "source": [
    "def get_dataset(size:int) -> pd.DataFrame:\n",
    "    df = pd.DataFrame()\n",
    "    df['size'] = np.random.choice(['big','small','medium'],size)\n",
    "    df['age']  = np.random.randint(1,50,size)\n",
    "    df['team'] = np.random.choice(['red','blue','green','yellow'],size)\n",
    "    df['win']  = np.random.choice(['yes','no'],size)\n",
    "    dates = pd.data_range('2020-01-01','2022-12-01')\n",
    "    df['date'] = np.random.choice(dates,size)\n",
    "    df['prob'] = np.random.uniform(0,1,size)\n",
    "    return df"
   ]
  },
  {
   "cell_type": "code",
   "execution_count": 64,
   "id": "8186b6bb",
   "metadata": {},
   "outputs": [],
   "source": [
    "def set_dtypes(df:pd.DataFrame) -> None:\n",
    "    df['size'] = df['size'].astype('category')\n",
    "    df['team'] = df['team'].astype('category')\n",
    "    df['age']  = df['age'].astype('int16')\n",
    "    df['win']  = df['win'].map({'yes':True,'no':False})\n",
    "    df['prob'] = df['prob'].astype('float16')\n",
    "    return df"
   ]
  },
  {
   "cell_type": "code",
   "execution_count": 65,
   "id": "ef2a9102",
   "metadata": {},
   "outputs": [],
   "source": [
    "# !ls -GFlash ...filename"
   ]
  },
  {
   "cell_type": "markdown",
   "id": "63c6669a",
   "metadata": {},
   "source": [
    "# Parquet (long-term-storage)\n",
    "```\n",
    "!pip install pyarrow\n",
    "!pip install fastparquet\n",
    "```"
   ]
  },
  {
   "cell_type": "markdown",
   "id": "bfbe8f1c",
   "metadata": {},
   "source": [
    "# Feather (short-term-storage)\n",
    "```\n",
    "!pip install feather\n",
    "```"
   ]
  },
  {
   "cell_type": "code",
   "execution_count": 66,
   "id": "165b482e",
   "metadata": {},
   "outputs": [
    {
     "name": "stdout",
     "output_type": "stream",
     "text": [
      "20221003_pd_speed_up_and_storage_effciency.ipynb\r\n"
     ]
    }
   ],
   "source": [
    "!ls"
   ]
  },
  {
   "cell_type": "code",
   "execution_count": null,
   "id": "80184fe0",
   "metadata": {},
   "outputs": [],
   "source": []
  }
 ],
 "metadata": {
  "kernelspec": {
   "display_name": "Python 3",
   "language": "python",
   "name": "python3"
  },
  "language_info": {
   "codemirror_mode": {
    "name": "ipython",
    "version": 3
   },
   "file_extension": ".py",
   "mimetype": "text/x-python",
   "name": "python",
   "nbconvert_exporter": "python",
   "pygments_lexer": "ipython3",
   "version": "3.6.13"
  }
 },
 "nbformat": 4,
 "nbformat_minor": 5
}
